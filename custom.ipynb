{
 "cells": [
  {
   "cell_type": "code",
   "execution_count": 1,
   "metadata": {},
   "outputs": [],
   "source": [
    "import os\n",
    "import pandas as pd\n",
    "import glob\n",
    "import torch\n",
    "import torch.nn as nn\n",
    "from torch.utils.data import Dataset, DataLoader\n",
    "from torchvision.transforms import ToTensor, Lambda, Compose, Resize, Normalize, Grayscale\n",
    "import matplotlib.pyplot as plt\n",
    "from tqdm import tqdm\n",
    "from PIL import Image \n",
    "import numpy as np"
   ]
  },
  {
   "cell_type": "code",
   "execution_count": 2,
   "metadata": {},
   "outputs": [],
   "source": [
    "liste_path = glob.glob('data/dataset/*/*', recursive=True)"
   ]
  },
  {
   "cell_type": "code",
   "execution_count": 3,
   "metadata": {},
   "outputs": [
    {
     "data": {
      "text/plain": [
       "7750"
      ]
     },
     "execution_count": 3,
     "metadata": {},
     "output_type": "execute_result"
    }
   ],
   "source": [
    "len(liste_path)"
   ]
  },
  {
   "cell_type": "code",
   "execution_count": 4,
   "metadata": {},
   "outputs": [],
   "source": [
    "labels = [path.split(os.sep)[-2] for path in liste_path]\n",
    "image_names = [path.split(os.sep)[-1] for path in liste_path]"
   ]
  },
  {
   "cell_type": "code",
   "execution_count": 5,
   "metadata": {},
   "outputs": [
    {
     "data": {
      "text/html": [
       "<div>\n",
       "<style scoped>\n",
       "    .dataframe tbody tr th:only-of-type {\n",
       "        vertical-align: middle;\n",
       "    }\n",
       "\n",
       "    .dataframe tbody tr th {\n",
       "        vertical-align: top;\n",
       "    }\n",
       "\n",
       "    .dataframe thead th {\n",
       "        text-align: right;\n",
       "    }\n",
       "</style>\n",
       "<table border=\"1\" class=\"dataframe\">\n",
       "  <thead>\n",
       "    <tr style=\"text-align: right;\">\n",
       "      <th></th>\n",
       "      <th>image_name</th>\n",
       "      <th>label</th>\n",
       "    </tr>\n",
       "  </thead>\n",
       "  <tbody>\n",
       "    <tr>\n",
       "      <th>141</th>\n",
       "      <td>62365.jpg</td>\n",
       "      <td>7</td>\n",
       "    </tr>\n",
       "    <tr>\n",
       "      <th>6699</th>\n",
       "      <td>40317.jpg</td>\n",
       "      <td>9</td>\n",
       "    </tr>\n",
       "    <tr>\n",
       "      <th>4706</th>\n",
       "      <td>3290.jpg</td>\n",
       "      <td>div</td>\n",
       "    </tr>\n",
       "    <tr>\n",
       "      <th>5065</th>\n",
       "      <td>9117.jpg</td>\n",
       "      <td>div</td>\n",
       "    </tr>\n",
       "    <tr>\n",
       "      <th>6649</th>\n",
       "      <td>2661.jpg</td>\n",
       "      <td>5</td>\n",
       "    </tr>\n",
       "    <tr>\n",
       "      <th>...</th>\n",
       "      <td>...</td>\n",
       "      <td>...</td>\n",
       "    </tr>\n",
       "    <tr>\n",
       "      <th>7713</th>\n",
       "      <td>44807.jpg</td>\n",
       "      <td>3</td>\n",
       "    </tr>\n",
       "    <tr>\n",
       "      <th>4165</th>\n",
       "      <td>56564.jpg</td>\n",
       "      <td>0</td>\n",
       "    </tr>\n",
       "    <tr>\n",
       "      <th>4893</th>\n",
       "      <td>7172.jpg</td>\n",
       "      <td>div</td>\n",
       "    </tr>\n",
       "    <tr>\n",
       "      <th>1850</th>\n",
       "      <td>7223.jpg</td>\n",
       "      <td>add</td>\n",
       "    </tr>\n",
       "    <tr>\n",
       "      <th>5</th>\n",
       "      <td>2669.jpg</td>\n",
       "      <td>7</td>\n",
       "    </tr>\n",
       "  </tbody>\n",
       "</table>\n",
       "<p>7750 rows × 2 columns</p>\n",
       "</div>"
      ],
      "text/plain": [
       "     image_name label\n",
       "141   62365.jpg     7\n",
       "6699  40317.jpg     9\n",
       "4706   3290.jpg   div\n",
       "5065   9117.jpg   div\n",
       "6649   2661.jpg     5\n",
       "...         ...   ...\n",
       "7713  44807.jpg     3\n",
       "4165  56564.jpg     0\n",
       "4893   7172.jpg   div\n",
       "1850   7223.jpg   add\n",
       "5      2669.jpg     7\n",
       "\n",
       "[7750 rows x 2 columns]"
      ]
     },
     "execution_count": 5,
     "metadata": {},
     "output_type": "execute_result"
    }
   ],
   "source": [
    "df = pd.DataFrame({'image_name': image_names, 'label': labels})\n",
    "df = df.sample(frac = 1)\n",
    "df"
   ]
  },
  {
   "cell_type": "code",
   "execution_count": 6,
   "metadata": {},
   "outputs": [],
   "source": [
    "label_liste = ['0', '1', '2', '3', '4', '5', '6', '7', '8', '9', 'add', 'div', 'mul', 'sub']"
   ]
  },
  {
   "cell_type": "code",
   "execution_count": 7,
   "metadata": {},
   "outputs": [],
   "source": [
    "def calculate_mean_and_std_for_images(df):\n",
    "    means = []\n",
    "    sqds = []\n",
    "    for index, row in df.iterrows():\n",
    "        path = os.path.join(\"data/dataset/\", row['label'], row['image_name'])\n",
    "        image = Image.open(path).convert('L')\n",
    "        image = image.resize((28,28))\n",
    "        image = np.array(image)\n",
    "        means.append(np.mean(image))\n",
    "        sqds.append(np.std(image))\n",
    "\n",
    "    # Calculate the mean\n",
    "    mean = np.mean(means, axis=0)\n",
    "\n",
    "    # Calculate the sum of squared differences (Sqd)\n",
    "    sqd = np.mean(sqds, axis=0)\n",
    "\n",
    "    return mean, sqd"
   ]
  },
  {
   "cell_type": "code",
   "execution_count": 8,
   "metadata": {},
   "outputs": [
    {
     "data": {
      "text/plain": [
       "(240.34469684002633, 47.712887672203195)"
      ]
     },
     "execution_count": 8,
     "metadata": {},
     "output_type": "execute_result"
    }
   ],
   "source": [
    "calculate_mean_and_std_for_images(df)"
   ]
  },
  {
   "cell_type": "code",
   "execution_count": 9,
   "metadata": {},
   "outputs": [],
   "source": [
    "class ExpandedMNIST(Dataset):\n",
    "    def __init__(self, dir, df, label, transform=None):\n",
    "        self.dir = dir\n",
    "        self.df = df\n",
    "        self.transform = transform\n",
    "        self.label = label\n",
    "    def __len__(self):\n",
    "        return len(self.df)\n",
    "    def __getitem__(self, idx):\n",
    "        image_name = self.df.iloc[idx, 0]\n",
    "        label_name = self.df.iloc[idx, 1]\n",
    "        image = Image.open(os.path.join(self.dir, label_name, image_name)).convert('L')\n",
    "        image = image.resize((28,28))\n",
    "        image = np.array(image)\n",
    "        image = 255 - image\n",
    "        \n",
    "        label_idx = self.label.index(label_name)\n",
    "        if self.transform is not None:\n",
    "            image = self.transform(image)\n",
    "        return image, label_idx"
   ]
  },
  {
   "cell_type": "code",
   "execution_count": 10,
   "metadata": {},
   "outputs": [],
   "source": [
    "transform = Compose([ToTensor()])"
   ]
  },
  {
   "cell_type": "code",
   "execution_count": 11,
   "metadata": {},
   "outputs": [],
   "source": [
    "train_dataset = ExpandedMNIST('data/dataset', df[:int(len(df) * 0.8)], label_liste, transform=transform)\n",
    "test_dataset = ExpandedMNIST('data/dataset', df[int(len(df) * 0.8):], label_liste,transform=transform)"
   ]
  },
  {
   "cell_type": "code",
   "execution_count": 13,
   "metadata": {},
   "outputs": [
    {
     "data": {
      "image/png": "[encoded data removed]",
      "text/plain": [
       "<Figure size 800x800 with 9 Axes>"
      ]
     },
     "metadata": {},
     "output_type": "display_data"
    }
   ],
   "source": [
    "figure = plt.figure(figsize=(8, 8))\n",
    "cols, rows = 3, 3\n",
    "for i in range(1, cols * rows + 1):\n",
    "    sample_idx = torch.randint(len(train_dataset), size=(1,)).item()\n",
    "    img, label = train_dataset[sample_idx]\n",
    "    figure.add_subplot(rows, cols, i)\n",
    "    plt.title(label)\n",
    "    plt.axis(\"off\")\n",
    "    plt.imshow(img.squeeze(), cmap=\"gray\")\n",
    "plt.show()"
   ]
  },
  {
   "cell_type": "code",
   "execution_count": 13,
   "metadata": {},
   "outputs": [],
   "source": [
    "train_dataloader = DataLoader(train_dataset, batch_size=64, num_workers=4,shuffle=True, drop_last=True, pin_memory=True)\n",
    "test_dataloader = DataLoader(test_dataset, batch_size=64, num_workers=4, shuffle=False, drop_last=False, pin_memory=True)"
   ]
  },
  {
   "cell_type": "code",
   "execution_count": 14,
   "metadata": {},
   "outputs": [
    {
     "name": "stdout",
     "output_type": "stream",
     "text": [
      "Feature batch shape: torch.Size([64, 1, 28, 28])\n",
      "Labels batch shape: torch.Size([64])\n",
      "tensor([[0.0000, 0.0000, 0.0000, 0.0000, 0.0000, 0.0000, 0.0000, 0.0000, 0.0000,\n",
      "         0.0000, 0.0000, 0.0000, 0.0000, 0.0000, 0.0000, 0.0000, 0.0000, 0.0000,\n",
      "         0.0000, 0.0000, 0.0000, 0.0000, 0.0000, 0.0000, 0.0000, 0.0000, 0.0000,\n",
      "         0.0000],\n",
      "        [0.0000, 0.0000, 0.0000, 0.0000, 0.0000, 0.0000, 0.0000, 0.0000, 0.0000,\n",
      "         0.0000, 0.0000, 0.0000, 0.0000, 0.0000, 0.0000, 0.0000, 0.0000, 0.0000,\n",
      "         0.0000, 0.0000, 0.0000, 0.0000, 0.0000, 0.0000, 0.0000, 0.0000, 0.0000,\n",
      "         0.0000],\n",
      "        [0.0000, 0.0000, 0.0000, 0.0000, 0.0000, 0.0000, 0.0000, 0.0000, 0.0000,\n",
      "         0.0000, 0.0000, 0.0000, 0.0000, 0.0000, 0.0000, 0.0000, 0.0000, 0.0000,\n",
      "         0.0000, 0.0000, 0.0000, 0.0000, 0.0000, 0.0000, 0.0000, 0.0000, 0.0000,\n",
      "         0.0000],\n",
      "        [0.0000, 0.0000, 0.0000, 0.0000, 0.0000, 0.0000, 0.0000, 0.0000, 0.0000,\n",
      "         0.0000, 0.0000, 0.0000, 0.0000, 0.0000, 0.0000, 0.0000, 0.0000, 0.0000,\n",
      "         0.0000, 0.0000, 0.0000, 0.0000, 0.0000, 0.0000, 0.0000, 0.0000, 0.0000,\n",
      "         0.0000],\n",
      "        [0.0000, 0.0000, 0.0000, 0.0000, 0.0000, 0.0000, 0.0000, 0.0000, 0.0000,\n",
      "         0.0000, 0.0000, 0.0000, 0.0000, 0.0000, 0.0000, 0.0000, 0.0000, 0.0000,\n",
      "         0.0000, 0.0000, 0.0000, 0.0000, 0.0000, 0.0000, 0.0000, 0.0000, 0.0000,\n",
      "         0.0000],\n",
      "        [0.0000, 0.0000, 0.0000, 0.0000, 0.0000, 0.0000, 0.0000, 0.0000, 0.0000,\n",
      "         0.0000, 0.0000, 0.0000, 0.0000, 0.0000, 0.0000, 0.0000, 0.0000, 0.0000,\n",
      "         0.0000, 0.0000, 0.0000, 0.0000, 0.0000, 0.0000, 0.0000, 0.0000, 0.0000,\n",
      "         0.0000],\n",
      "        [0.0000, 0.0000, 0.0000, 0.0000, 0.0000, 0.0000, 0.0000, 0.0000, 0.0000,\n",
      "         0.0000, 0.0000, 0.0000, 0.0000, 0.0000, 0.0000, 0.0000, 0.0000, 0.0000,\n",
      "         0.0000, 0.0000, 0.0000, 0.0000, 0.0000, 0.0000, 0.0000, 0.0000, 0.0000,\n",
      "         0.0000],\n",
      "        [0.0000, 0.0000, 0.0000, 0.0000, 0.0000, 0.0000, 0.0000, 0.0000, 0.0000,\n",
      "         0.0000, 0.0000, 0.0000, 0.0000, 0.0000, 0.0000, 0.0000, 0.0000, 0.0000,\n",
      "         0.0000, 0.0000, 0.0000, 0.0000, 0.0000, 0.0000, 0.0000, 0.0000, 0.0000,\n",
      "         0.0000],\n",
      "        [0.0000, 0.0000, 0.0000, 0.0000, 0.0000, 0.0000, 0.0000, 0.0000, 0.0000,\n",
      "         0.0000, 0.0000, 0.0000, 0.0000, 0.0000, 0.0000, 0.0000, 0.0000, 0.0000,\n",
      "         0.0000, 0.0000, 0.0000, 0.0000, 0.0000, 0.0000, 0.0000, 0.0000, 0.0000,\n",
      "         0.0000],\n",
      "        [0.0000, 0.0000, 0.0000, 0.0000, 0.0000, 0.0000, 0.0000, 0.0000, 0.0000,\n",
      "         0.0000, 0.0000, 0.0000, 0.0000, 0.0000, 0.0000, 0.0000, 0.0000, 0.0000,\n",
      "         0.0000, 0.0000, 0.0000, 0.0000, 0.0000, 0.0000, 0.0000, 0.0000, 0.0000,\n",
      "         0.0000],\n",
      "        [0.0000, 0.0000, 0.0000, 0.0000, 0.0000, 0.0000, 0.0000, 0.0000, 0.0000,\n",
      "         0.0000, 0.0000, 0.0000, 0.0000, 0.0000, 0.0000, 0.0000, 0.0000, 0.0000,\n",
      "         0.0000, 0.0000, 0.0000, 0.0000, 0.0000, 0.0000, 0.0000, 0.0000, 0.0000,\n",
      "         0.0000],\n",
      "        [0.0000, 0.0000, 0.0000, 0.0000, 0.0000, 0.0000, 0.0000, 0.0000, 0.0000,\n",
      "         0.0000, 0.0000, 0.0000, 0.0000, 0.0000, 0.0000, 0.0000, 0.0000, 0.0000,\n",
      "         0.0000, 0.0000, 0.0000, 0.0000, 0.0000, 0.0000, 0.0000, 0.0000, 0.0000,\n",
      "         0.0000],\n",
      "        [0.0000, 0.0000, 0.0000, 0.0000, 0.0000, 0.0000, 0.0000, 0.0000, 0.0000,\n",
      "         0.0000, 0.0000, 0.0000, 0.0000, 0.0000, 0.0000, 0.0000, 0.0000, 0.0000,\n",
      "         0.0000, 0.0000, 0.0000, 0.0000, 0.0000, 0.0000, 0.0000, 0.0000, 0.0000,\n",
      "         0.0000],\n",
      "        [0.0000, 0.0000, 0.0000, 0.0000, 0.0000, 0.0000, 0.0000, 0.0000, 0.0000,\n",
      "         0.0000, 0.0000, 0.0000, 0.0000, 0.0000, 0.0000, 0.0000, 0.0000, 0.0000,\n",
      "         0.0000, 0.0000, 0.0000, 0.0000, 0.0000, 0.0000, 0.0000, 0.0000, 0.0000,\n",
      "         0.0000],\n",
      "        [0.0000, 0.0000, 0.0000, 0.0000, 0.0000, 0.0000, 0.0353, 0.2431, 0.2392,\n",
      "         0.1686, 0.1137, 0.1098, 0.0941, 0.0667, 0.0510, 0.0235, 0.0039, 0.0000,\n",
      "         0.0000, 0.0000, 0.0000, 0.0000, 0.0000, 0.0000, 0.0000, 0.0000, 0.0000,\n",
      "         0.0000],\n",
      "        [0.0000, 0.0000, 0.0000, 0.0000, 0.0000, 0.0000, 0.4078, 1.0000, 1.0000,\n",
      "         0.9961, 0.9608, 0.9569, 0.9373, 0.9020, 0.8784, 0.8431, 0.8039, 0.7451,\n",
      "         0.6471, 0.5020, 0.3176, 0.1569, 0.0157, 0.0000, 0.0000, 0.0000, 0.0000,\n",
      "         0.0000],\n",
      "        [0.0000, 0.0000, 0.0000, 0.0000, 0.0000, 0.0000, 0.2235, 0.7451, 0.8000,\n",
      "         0.8706, 0.9216, 0.9294, 0.9451, 0.9725, 0.9882, 1.0000, 1.0000, 1.0000,\n",
      "         1.0000, 1.0000, 1.0000, 0.9804, 0.5608, 0.0000, 0.0000, 0.0000, 0.0000,\n",
      "         0.0000],\n",
      "        [0.0000, 0.0000, 0.0000, 0.0000, 0.0000, 0.0000, 0.0000, 0.0000, 0.0039,\n",
      "         0.0431, 0.0745, 0.0784, 0.0980, 0.1412, 0.1608, 0.2039, 0.2392, 0.3059,\n",
      "         0.4196, 0.5843, 0.7686, 0.9137, 0.5725, 0.0000, 0.0000, 0.0000, 0.0000,\n",
      "         0.0000],\n",
      "        [0.0000, 0.0000, 0.0000, 0.0000, 0.0000, 0.0000, 0.0000, 0.0000, 0.0000,\n",
      "         0.0000, 0.0000, 0.0000, 0.0000, 0.0000, 0.0000, 0.0000, 0.0000, 0.0000,\n",
      "         0.0000, 0.0000, 0.0000, 0.0745, 0.0196, 0.0000, 0.0000, 0.0000, 0.0000,\n",
      "         0.0000],\n",
      "        [0.0000, 0.0000, 0.0000, 0.0000, 0.0000, 0.0000, 0.0000, 0.0000, 0.0000,\n",
      "         0.0000, 0.0000, 0.0000, 0.0000, 0.0000, 0.0000, 0.0000, 0.0000, 0.0000,\n",
      "         0.0000, 0.0000, 0.0000, 0.0000, 0.0000, 0.0000, 0.0000, 0.0000, 0.0000,\n",
      "         0.0000],\n",
      "        [0.0000, 0.0000, 0.0000, 0.0000, 0.0000, 0.0000, 0.0000, 0.0000, 0.0000,\n",
      "         0.0000, 0.0000, 0.0000, 0.0000, 0.0000, 0.0000, 0.0000, 0.0000, 0.0000,\n",
      "         0.0000, 0.0000, 0.0000, 0.0000, 0.0000, 0.0000, 0.0000, 0.0000, 0.0000,\n",
      "         0.0000],\n",
      "        [0.0000, 0.0000, 0.0000, 0.0000, 0.0000, 0.0000, 0.0000, 0.0000, 0.0000,\n",
      "         0.0000, 0.0000, 0.0000, 0.0000, 0.0000, 0.0000, 0.0000, 0.0000, 0.0000,\n",
      "         0.0000, 0.0000, 0.0000, 0.0000, 0.0000, 0.0000, 0.0000, 0.0000, 0.0000,\n",
      "         0.0000],\n",
      "        [0.0000, 0.0000, 0.0000, 0.0000, 0.0000, 0.0000, 0.0000, 0.0000, 0.0000,\n",
      "         0.0000, 0.0000, 0.0000, 0.0000, 0.0000, 0.0000, 0.0000, 0.0000, 0.0000,\n",
      "         0.0000, 0.0000, 0.0000, 0.0000, 0.0000, 0.0000, 0.0000, 0.0000, 0.0000,\n",
      "         0.0000],\n",
      "        [0.0000, 0.0000, 0.0000, 0.0000, 0.0000, 0.0000, 0.0000, 0.0000, 0.0000,\n",
      "         0.0000, 0.0000, 0.0000, 0.0000, 0.0000, 0.0000, 0.0000, 0.0000, 0.0000,\n",
      "         0.0000, 0.0000, 0.0000, 0.0000, 0.0000, 0.0000, 0.0000, 0.0000, 0.0000,\n",
      "         0.0000],\n",
      "        [0.0000, 0.0000, 0.0000, 0.0000, 0.0000, 0.0000, 0.0000, 0.0000, 0.0000,\n",
      "         0.0000, 0.0000, 0.0000, 0.0000, 0.0000, 0.0000, 0.0000, 0.0000, 0.0000,\n",
      "         0.0000, 0.0000, 0.0000, 0.0000, 0.0000, 0.0000, 0.0000, 0.0000, 0.0000,\n",
      "         0.0000],\n",
      "        [0.0000, 0.0000, 0.0000, 0.0000, 0.0000, 0.0000, 0.0000, 0.0000, 0.0000,\n",
      "         0.0000, 0.0000, 0.0000, 0.0000, 0.0000, 0.0000, 0.0000, 0.0000, 0.0000,\n",
      "         0.0000, 0.0000, 0.0000, 0.0000, 0.0000, 0.0000, 0.0000, 0.0000, 0.0000,\n",
      "         0.0000],\n",
      "        [0.0000, 0.0000, 0.0000, 0.0000, 0.0000, 0.0000, 0.0000, 0.0000, 0.0000,\n",
      "         0.0000, 0.0000, 0.0000, 0.0000, 0.0000, 0.0000, 0.0000, 0.0000, 0.0000,\n",
      "         0.0000, 0.0000, 0.0000, 0.0000, 0.0000, 0.0000, 0.0000, 0.0000, 0.0000,\n",
      "         0.0000],\n",
      "        [0.0000, 0.0000, 0.0000, 0.0000, 0.0000, 0.0000, 0.0000, 0.0000, 0.0000,\n",
      "         0.0000, 0.0000, 0.0000, 0.0000, 0.0000, 0.0000, 0.0000, 0.0000, 0.0000,\n",
      "         0.0000, 0.0000, 0.0000, 0.0000, 0.0000, 0.0000, 0.0000, 0.0000, 0.0000,\n",
      "         0.0000]])\n"
     ]
    },
    {
     "data": {
      "image/png": "[encoded data removed]",
      "text/plain": [
       "<Figure size 640x480 with 1 Axes>"
      ]
     },
     "metadata": {},
     "output_type": "display_data"
    },
    {
     "name": "stdout",
     "output_type": "stream",
     "text": [
      "Label: 13\n"
     ]
    }
   ],
   "source": [
    "# Display image and label.\n",
    "train_features, train_labels = next(iter(train_dataloader))\n",
    "print(f\"Feature batch shape: {train_features.size()}\")\n",
    "print(f\"Labels batch shape: {train_labels.size()}\")\n",
    "img = train_features[0].squeeze()\n",
    "print(img)\n",
    "label = train_labels[0]\n",
    "plt.imshow(img, cmap=\"gray\")\n",
    "plt.show()\n",
    "print(f\"Label: {label}\")"
   ]
  },
  {
   "cell_type": "code",
   "execution_count": 15,
   "metadata": {},
   "outputs": [],
   "source": [
    "class CNN(nn.Module):\n",
    "    def __init__(self):\n",
    "        super().__init__()\n",
    "        self.conv1 = nn.Sequential(\n",
    "            #1, 28,28\n",
    "            nn.Conv2d(1, 8, kernel_size=5, padding=2),\n",
    "            nn.ReLU(inplace=True),\n",
    "\n",
    "            #4, 14, 14\n",
    "\n",
    "            nn.Conv2d(8, 16, kernel_size=5),\n",
    "            nn.ReLU(inplace=True),\n",
    "        )\n",
    "        self.mlp = nn.Sequential(\n",
    "            nn.Flatten(),\n",
    "            nn.Linear(9216, 512),\n",
    "            nn.ReLU(),\n",
    "            nn.Dropout(0.2),\n",
    "            nn.Linear(512, 128),\n",
    "            nn.ReLU(),\n",
    "            nn.Dropout(0.2),\n",
    "            nn.Linear(128, len(label_liste))\n",
    "        )\n",
    "    def forward(self, x):\n",
    "        x = self.conv1(x)\n",
    "        logits = self.mlp(x)\n",
    "        return logits"
   ]
  },
  {
   "cell_type": "code",
   "execution_count": 16,
   "metadata": {},
   "outputs": [
    {
     "name": "stdout",
     "output_type": "stream",
     "text": [
      "CNN(\n",
      "  (conv1): Sequential(\n",
      "    (0): Conv2d(1, 8, kernel_size=(5, 5), stride=(1, 1), padding=(2, 2))\n",
      "    (1): ReLU(inplace=True)\n",
      "    (2): Conv2d(8, 16, kernel_size=(5, 5), stride=(1, 1))\n",
      "    (3): ReLU(inplace=True)\n",
      "  )\n",
      "  (mlp): Sequential(\n",
      "    (0): Flatten(start_dim=1, end_dim=-1)\n",
      "    (1): Linear(in_features=9216, out_features=512, bias=True)\n",
      "    (2): ReLU()\n",
      "    (3): Dropout(p=0.2, inplace=False)\n",
      "    (4): Linear(in_features=512, out_features=128, bias=True)\n",
      "    (5): ReLU()\n",
      "    (6): Dropout(p=0.2, inplace=False)\n",
      "    (7): Linear(in_features=128, out_features=14, bias=True)\n",
      "  )\n",
      ")\n"
     ]
    }
   ],
   "source": [
    "device = \"cuda\"\n",
    "model = CNN().to(device)\n",
    "print(model)"
   ]
  },
  {
   "cell_type": "code",
   "execution_count": 17,
   "metadata": {},
   "outputs": [],
   "source": [
    "learning_rate = 1e-3\n",
    "batch_size = 64\n",
    "epochs = 5"
   ]
  },
  {
   "cell_type": "code",
   "execution_count": 18,
   "metadata": {},
   "outputs": [],
   "source": [
    "def train_loop(dataloader, model, loss_fn, optimizer, scheduler):\n",
    "    size = len(dataloader.dataset)\n",
    "    # Set the model to training mode - important for batch normalization and dropout layers\n",
    "    # Unnecessary in this situation but added for best practices\n",
    "    model.train()\n",
    "    with tqdm(dataloader, desc=\"Training\") as pbar:\n",
    "        for X, y in pbar:\n",
    "            X, y = X.to(device), y.to(device)\n",
    "            # Compute prediction and loss\n",
    "            pred = model(X)\n",
    "            loss = loss_fn(pred, y)\n",
    "\n",
    "            # Backpropagation\n",
    "            loss.backward()\n",
    "            optimizer.step()\n",
    "            optimizer.zero_grad()\n",
    "            pbar.set_postfix(loss=f\"{loss.item():2e}\")\n",
    "        scheduler.step()\n",
    "\n",
    "\n",
    "def test_loop(dataloader, model, loss_fn, logs):\n",
    "    # Set the model to evaluation mode - important for batch normalization and dropout layers\n",
    "    # Unnecessary in this situation but added for best practices\n",
    "    model.eval()\n",
    "    size = len(dataloader.dataset)\n",
    "    num_batches = len(dataloader)\n",
    "    test_loss, correct = 0, 0\n",
    "\n",
    "    # Evaluating the model with torch.no_grad() ensures that no gradients are computed during test mode\n",
    "    # also serves to reduce unnecessary gradient computations and memory usage for tensors with requires_grad=True\n",
    "    with torch.no_grad():\n",
    "        with tqdm(dataloader, desc=\"Testing\") as pbar:\n",
    "            for X, y in pbar:\n",
    "                X, y = X.to(device), y.to(device)\n",
    "                pred = model(X)\n",
    "                test_loss += loss_fn(pred, y).item()\n",
    "                correct += (pred.argmax(1) == y).type(torch.float).sum().item()\n",
    "                pbar.set_postfix(loss=f\"{test_loss/num_batches:>8f}\", accuracy=f\"{correct/size * 100:0.1f}\")\n",
    "                logs[\"preds\"]+=pred.argmax(1).cpu().numpy().tolist()\n",
    "                logs[\"labels\"]+=y.cpu().numpy().tolist()"
   ]
  },
  {
   "cell_type": "code",
   "execution_count": 19,
   "metadata": {},
   "outputs": [
    {
     "name": "stdout",
     "output_type": "stream",
     "text": [
      "Epoch 1\n",
      "-------------------------------\n"
     ]
    },
    {
     "name": "stderr",
     "output_type": "stream",
     "text": [
      "Training: 100%|██████████| 96/96 [00:00<00:00, 97.26it/s, loss=1.175025e+00] \n",
      "Testing: 100%|██████████| 25/25 [00:00<00:00, 95.71it/s, accuracy=63.2, loss=1.109528]\n"
     ]
    },
    {
     "name": "stdout",
     "output_type": "stream",
     "text": [
      "Epoch 2\n",
      "-------------------------------\n"
     ]
    },
    {
     "name": "stderr",
     "output_type": "stream",
     "text": [
      "Training: 100%|██████████| 96/96 [00:00<00:00, 114.18it/s, loss=7.290456e-01]\n",
      "Testing: 100%|██████████| 25/25 [00:00<00:00, 94.60it/s, accuracy=80.3, loss=0.598166]\n"
     ]
    },
    {
     "name": "stdout",
     "output_type": "stream",
     "text": [
      "Epoch 3\n",
      "-------------------------------\n"
     ]
    },
    {
     "name": "stderr",
     "output_type": "stream",
     "text": [
      "Training: 100%|██████████| 96/96 [00:00<00:00, 114.57it/s, loss=6.111771e-01]\n",
      "Testing: 100%|██████████| 25/25 [00:00<00:00, 97.61it/s, accuracy=87.9, loss=0.387835]\n"
     ]
    },
    {
     "name": "stdout",
     "output_type": "stream",
     "text": [
      "Epoch 4\n",
      "-------------------------------\n"
     ]
    },
    {
     "name": "stderr",
     "output_type": "stream",
     "text": [
      "Training: 100%|██████████| 96/96 [00:00<00:00, 112.59it/s, loss=3.983361e-01]\n",
      "Testing: 100%|██████████| 25/25 [00:00<00:00, 93.40it/s, accuracy=88.8, loss=0.350393]\n"
     ]
    },
    {
     "name": "stdout",
     "output_type": "stream",
     "text": [
      "Epoch 5\n",
      "-------------------------------\n"
     ]
    },
    {
     "name": "stderr",
     "output_type": "stream",
     "text": [
      "Training: 100%|██████████| 96/96 [00:00<00:00, 116.27it/s, loss=1.406420e-01]\n",
      "Testing: 100%|██████████| 25/25 [00:00<00:00, 98.89it/s, accuracy=91.1, loss=0.294172]\n"
     ]
    },
    {
     "name": "stdout",
     "output_type": "stream",
     "text": [
      "Epoch 6\n",
      "-------------------------------\n"
     ]
    },
    {
     "name": "stderr",
     "output_type": "stream",
     "text": [
      "Training: 100%|██████████| 96/96 [00:00<00:00, 109.54it/s, loss=2.180302e-01]\n",
      "Testing: 100%|██████████| 25/25 [00:00<00:00, 100.08it/s, accuracy=91.1, loss=0.294172]\n"
     ]
    },
    {
     "name": "stdout",
     "output_type": "stream",
     "text": [
      "Epoch 7\n",
      "-------------------------------\n"
     ]
    },
    {
     "name": "stderr",
     "output_type": "stream",
     "text": [
      "Training: 100%|██████████| 96/96 [00:00<00:00, 117.56it/s, loss=2.751711e-01]\n",
      "Testing: 100%|██████████| 25/25 [00:00<00:00, 101.59it/s, accuracy=91.9, loss=0.273888]\n"
     ]
    },
    {
     "name": "stdout",
     "output_type": "stream",
     "text": [
      "Epoch 8\n",
      "-------------------------------\n"
     ]
    },
    {
     "name": "stderr",
     "output_type": "stream",
     "text": [
      "Training: 100%|██████████| 96/96 [00:00<00:00, 107.21it/s, loss=2.469600e-01]\n",
      "Testing: 100%|██████████| 25/25 [00:00<00:00, 102.53it/s, accuracy=91.0, loss=0.274785]\n"
     ]
    },
    {
     "name": "stdout",
     "output_type": "stream",
     "text": [
      "Epoch 9\n",
      "-------------------------------\n"
     ]
    },
    {
     "name": "stderr",
     "output_type": "stream",
     "text": [
      "Training: 100%|██████████| 96/96 [00:00<00:00, 114.95it/s, loss=2.348588e-01]\n",
      "Testing: 100%|██████████| 25/25 [00:00<00:00, 104.06it/s, accuracy=91.5, loss=0.269161]\n"
     ]
    },
    {
     "name": "stdout",
     "output_type": "stream",
     "text": [
      "Epoch 10\n",
      "-------------------------------\n"
     ]
    },
    {
     "name": "stderr",
     "output_type": "stream",
     "text": [
      "Training: 100%|██████████| 96/96 [00:00<00:00, 115.28it/s, loss=1.065774e-01]\n",
      "Testing: 100%|██████████| 25/25 [00:00<00:00, 90.79it/s, accuracy=92.6, loss=0.253790]"
     ]
    },
    {
     "name": "stdout",
     "output_type": "stream",
     "text": [
      "Done!\n"
     ]
    },
    {
     "name": "stderr",
     "output_type": "stream",
     "text": [
      "\n"
     ]
    }
   ],
   "source": [
    "loss_fn = nn.CrossEntropyLoss().to(device)\n",
    "optimizer = torch.optim.AdamW(model.parameters(), lr=learning_rate)\n",
    "lr_scheduler = torch.optim.lr_scheduler.CosineAnnealingLR(optimizer, T_max=epochs)\n",
    "logs = {\n",
    "    \"preds\": [],\n",
    "    \"labels\": [],\n",
    "}\n",
    "epochs = 10\n",
    "for t in range(epochs):\n",
    "    print(f\"Epoch {t+1}\\n-------------------------------\")\n",
    "    train_loop(train_dataloader, model, loss_fn, optimizer, lr_scheduler)\n",
    "    test_loop(test_dataloader, model, loss_fn, logs)\n",
    "print(\"Done!\")"
   ]
  },
  {
   "cell_type": "code",
   "execution_count": 24,
   "metadata": {},
   "outputs": [
    {
     "data": {
      "text/plain": [
       "<sklearn.metrics._plot.confusion_matrix.ConfusionMatrixDisplay at 0x7f550ff352d0>"
      ]
     },
     "execution_count": 24,
     "metadata": {},
     "output_type": "execute_result"
    },
    {
     "data": {
      "image/png": "[encoded data removed]",
      "text/plain": [
       "<Figure size 640x480 with 2 Axes>"
      ]
     },
     "metadata": {},
     "output_type": "display_data"
    }
   ],
   "source": [
    "from sklearn.metrics import confusion_matrix, ConfusionMatrixDisplay\n",
    "conf_mat = confusion_matrix(logs[\"labels\"], logs[\"preds\"])\n",
    "disp = ConfusionMatrixDisplay(confusion_matrix=conf_mat, display_labels=label_liste)\n",
    "disp.plot(cmap=plt.cm.Blues, values_format=\"d\")"
   ]
  },
  {
   "cell_type": "code",
   "execution_count": null,
   "metadata": {},
   "outputs": [],
   "source": []
  },
  {
   "cell_type": "code",
   "execution_count": 21,
   "metadata": {},
   "outputs": [],
   "source": [
    "torch.save(model.state_dict(), 'data/checkpoint/cnn_custom_weights.pth')"
   ]
  },
  {
   "cell_type": "code",
   "execution_count": 22,
   "metadata": {},
   "outputs": [
    {
     "name": "stdout",
     "output_type": "stream",
     "text": [
      "Exported graph: graph(%image : Float(1, 1, 28, 28, strides=[784, 784, 28, 1], requires_grad=0, device=cpu),\n",
      "      %conv1.0.weight : Float(8, 1, 5, 5, strides=[25, 25, 5, 1], requires_grad=1, device=cpu),\n",
      "      %conv1.0.bias : Float(8, strides=[1], requires_grad=1, device=cpu),\n",
      "      %conv1.2.weight : Float(16, 8, 5, 5, strides=[200, 25, 5, 1], requires_grad=1, device=cpu),\n",
      "      %conv1.2.bias : Float(16, strides=[1], requires_grad=1, device=cpu),\n",
      "      %mlp.1.weight : Float(512, 9216, strides=[9216, 1], requires_grad=1, device=cpu),\n",
      "      %mlp.1.bias : Float(512, strides=[1], requires_grad=1, device=cpu),\n",
      "      %mlp.4.weight : Float(128, 512, strides=[512, 1], requires_grad=1, device=cpu),\n",
      "      %mlp.4.bias : Float(128, strides=[1], requires_grad=1, device=cpu),\n",
      "      %mlp.7.weight : Float(14, 128, strides=[128, 1], requires_grad=1, device=cpu),\n",
      "      %mlp.7.bias : Float(14, strides=[1], requires_grad=1, device=cpu)):\n",
      "  %/conv1/conv1.0/Conv_output_0 : Float(1, 8, 28, 28, strides=[6272, 784, 28, 1], requires_grad=0, device=cpu) = onnx::Conv[dilations=[1, 1], group=1, kernel_shape=[5, 5], pads=[2, 2, 2, 2], strides=[1, 1], onnx_name=\"/conv1/conv1.0/Conv\"](%image, %conv1.0.weight, %conv1.0.bias), scope: __main__.CNN::/torch.nn.modules.container.Sequential::conv1/torch.nn.modules.conv.Conv2d::conv1.0 # /home/utilisateur/createch/project/calculator/.venv/lib/python3.11/site-packages/torch/nn/modules/conv.py:456:0\n",
      "  %/conv1/conv1.1/Relu_output_0 : Float(1, 8, 28, 28, strides=[6272, 784, 28, 1], requires_grad=1, device=cpu) = onnx::Relu[onnx_name=\"/conv1/conv1.1/Relu\"](%/conv1/conv1.0/Conv_output_0), scope: __main__.CNN::/torch.nn.modules.container.Sequential::conv1/torch.nn.modules.activation.ReLU::conv1.1 # /home/utilisateur/createch/project/calculator/.venv/lib/python3.11/site-packages/torch/nn/functional.py:1469:0\n",
      "  %/conv1/conv1.2/Conv_output_0 : Float(1, 16, 24, 24, strides=[9216, 576, 24, 1], requires_grad=0, device=cpu) = onnx::Conv[dilations=[1, 1], group=1, kernel_shape=[5, 5], pads=[0, 0, 0, 0], strides=[1, 1], onnx_name=\"/conv1/conv1.2/Conv\"](%/conv1/conv1.1/Relu_output_0, %conv1.2.weight, %conv1.2.bias), scope: __main__.CNN::/torch.nn.modules.container.Sequential::conv1/torch.nn.modules.conv.Conv2d::conv1.2 # /home/utilisateur/createch/project/calculator/.venv/lib/python3.11/site-packages/torch/nn/modules/conv.py:456:0\n",
      "  %/conv1/conv1.3/Relu_output_0 : Float(1, 16, 24, 24, strides=[9216, 576, 24, 1], requires_grad=1, device=cpu) = onnx::Relu[onnx_name=\"/conv1/conv1.3/Relu\"](%/conv1/conv1.2/Conv_output_0), scope: __main__.CNN::/torch.nn.modules.container.Sequential::conv1/torch.nn.modules.activation.ReLU::conv1.3 # /home/utilisateur/createch/project/calculator/.venv/lib/python3.11/site-packages/torch/nn/functional.py:1469:0\n",
      "  %/mlp/mlp.0/Flatten_output_0 : Float(1, 9216, strides=[9216, 1], requires_grad=1, device=cpu) = onnx::Flatten[axis=1, onnx_name=\"/mlp/mlp.0/Flatten\"](%/conv1/conv1.3/Relu_output_0), scope: __main__.CNN::/torch.nn.modules.container.Sequential::mlp/torch.nn.modules.flatten.Flatten::mlp.0 # /home/utilisateur/createch/project/calculator/.venv/lib/python3.11/site-packages/torch/nn/modules/flatten.py:47:0\n",
      "  %/mlp/mlp.1/Gemm_output_0 : Float(1, 512, strides=[512, 1], requires_grad=1, device=cpu) = onnx::Gemm[alpha=1., beta=1., transB=1, onnx_name=\"/mlp/mlp.1/Gemm\"](%/mlp/mlp.0/Flatten_output_0, %mlp.1.weight, %mlp.1.bias), scope: __main__.CNN::/torch.nn.modules.container.Sequential::mlp/torch.nn.modules.linear.Linear::mlp.1 # /home/utilisateur/createch/project/calculator/.venv/lib/python3.11/site-packages/torch/nn/modules/linear.py:114:0\n",
      "  %/mlp/mlp.2/Relu_output_0 : Float(1, 512, strides=[512, 1], requires_grad=1, device=cpu) = onnx::Relu[onnx_name=\"/mlp/mlp.2/Relu\"](%/mlp/mlp.1/Gemm_output_0), scope: __main__.CNN::/torch.nn.modules.container.Sequential::mlp/torch.nn.modules.activation.ReLU::mlp.2 # /home/utilisateur/createch/project/calculator/.venv/lib/python3.11/site-packages/torch/nn/functional.py:1471:0\n",
      "  %/mlp/mlp.4/Gemm_output_0 : Float(1, 128, strides=[128, 1], requires_grad=1, device=cpu) = onnx::Gemm[alpha=1., beta=1., transB=1, onnx_name=\"/mlp/mlp.4/Gemm\"](%/mlp/mlp.2/Relu_output_0, %mlp.4.weight, %mlp.4.bias), scope: __main__.CNN::/torch.nn.modules.container.Sequential::mlp/torch.nn.modules.linear.Linear::mlp.4 # /home/utilisateur/createch/project/calculator/.venv/lib/python3.11/site-packages/torch/nn/modules/linear.py:114:0\n",
      "  %/mlp/mlp.5/Relu_output_0 : Float(1, 128, strides=[128, 1], requires_grad=1, device=cpu) = onnx::Relu[onnx_name=\"/mlp/mlp.5/Relu\"](%/mlp/mlp.4/Gemm_output_0), scope: __main__.CNN::/torch.nn.modules.container.Sequential::mlp/torch.nn.modules.activation.ReLU::mlp.5 # /home/utilisateur/createch/project/calculator/.venv/lib/python3.11/site-packages/torch/nn/functional.py:1471:0\n",
      "  %preds : Float(1, 14, strides=[14, 1], requires_grad=1, device=cpu) = onnx::Gemm[alpha=1., beta=1., transB=1, onnx_name=\"/mlp/mlp.7/Gemm\"](%/mlp/mlp.5/Relu_output_0, %mlp.7.weight, %mlp.7.bias), scope: __main__.CNN::/torch.nn.modules.container.Sequential::mlp/torch.nn.modules.linear.Linear::mlp.7 # /home/utilisateur/createch/project/calculator/.venv/lib/python3.11/site-packages/torch/nn/modules/linear.py:114:0\n",
      "  return (%preds)\n",
      "\n"
     ]
    }
   ],
   "source": [
    "model = CNN()\n",
    "model.load_state_dict(torch.load('data/checkpoint/cnn_custom_weights.pth'))\n",
    "model.eval()\n",
    "\n",
    "torch.onnx.export(model, \n",
    "                torch.randn(1, 1, 28, 28), \n",
    "                'docs/static/model//cnn_custom.onnx', \n",
    "                do_constant_folding=True,\n",
    "                export_params=True,\n",
    "                opset_version=10, \n",
    "                input_names=['image'], \n",
    "                output_names=['preds'],\n",
    "                verbose=True\n",
    "                )"
   ]
  }
 ],
 "metadata": {
  "kernelspec": {
   "display_name": ".venv",
   "language": "python",
   "name": "python3"
  },
  "language_info": {
   "codemirror_mode": {
    "name": "ipython",
    "version": 3
   },
   "file_extension": ".py",
   "mimetype": "text/x-python",
   "name": "python",
   "nbconvert_exporter": "python",
   "pygments_lexer": "ipython3",
   "version": "3.11.5"
  }
 },
 "nbformat": 4,
 "nbformat_minor": 2
}
